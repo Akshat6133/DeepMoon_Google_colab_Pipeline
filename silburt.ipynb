{
  "cells": [
    {
      "cell_type": "markdown",
      "metadata": {
        "id": "view-in-github",
        "colab_type": "text"
      },
      "source": [
        "<a href=\"https://colab.research.google.com/github/Akshat6133/DeepMoon_Google_colab_Pipeline/blob/main_clean/silburt.ipynb\" target=\"_parent\"><img src=\"https://colab.research.google.com/assets/colab-badge.svg\" alt=\"Open In Colab\"/></a>"
      ]
    },
    {
      "cell_type": "markdown",
      "source": [],
      "metadata": {
        "id": "pDePgAlJ9G63"
      }
    },
    {
      "cell_type": "code",
      "source": [
        "!rm -r /content/drive/MyDrive/comp_vis"
      ],
      "metadata": {
        "id": "Jf6clX1g9AC_"
      },
      "execution_count": null,
      "outputs": []
    },
    {
      "cell_type": "code",
      "source": [
        "# make a dir.\n",
        "!mkdir -p /content/drive/MyDrive/comp_vis"
      ],
      "metadata": {
        "id": "jriXoDYrz7ZE"
      },
      "execution_count": null,
      "outputs": []
    },
    {
      "cell_type": "code",
      "source": [
        "#clone repo in that dir\n",
        "!git clone https://github.com/Akshat6133/DeepMoon.git /content/drive/MyDrive/comp_vis/DeepMoon\n",
        "!mkdir /content/drive/MyDrive/comp_vis/DeepMoon/input_data\n"
      ],
      "metadata": {
        "id": "iJ5Lv47Czxc0"
      },
      "execution_count": null,
      "outputs": []
    },
    {
      "cell_type": "code",
      "source": [
        "# sequential downloading\n",
        "\n",
        "# pull all the data from the ...\n",
        "!wget  -P /content/drive/MyDrive/comp_vis/DeepMoon/catalogues/ https://zenodo.org/records/1133969/files/dev_craters.hdf5?download=1\n",
        "!wget  -P /content/drive/MyDrive/comp_vis/DeepMoon/catalogues/ https://zenodo.org/records/1133969/files/dev_images.hdf5?download=1\n",
        "!wget  -P /content/drive/MyDrive/comp_vis/DeepMoon/input_data/ https://zenodo.org/records/1133969/files/LunarLROLrocKaguya_118mperpix.png?download=1\n",
        "!wget  -P /content/drive/MyDrive/comp_vis/DeepMoon/catalogues/ https://zenodo.org/records/1133969/files/model_keras1.2.2.h5?download=1\n",
        "!wget  -P /content/drive/MyDrive/comp_vis/DeepMoon/catalogues/ https://zenodo.org/records/1133969/files/model_keras2.h5?download=1\n",
        "!wget  -P /content/drive/MyDrive/comp_vis/DeepMoon/catalogues/ https://zenodo.org/records/1133969/files/post-processed_sample_images.zip?download=1\n",
        "!wget  -P /content/drive/MyDrive/comp_vis/DeepMoon/catalogues/ https://zenodo.org/records/1133969/files/post-processed_test_craters.npy?download=1\n",
        "!wget  -P /content/drive/MyDrive/comp_vis/DeepMoon/catalogues/ https://zenodo.org/records/1133969/files/test_craters.hdf5?download=1\n",
        "!wget  -P /content/drive/MyDrive/comp_vis/DeepMoon/catalogues/ https://zenodo.org/records/1133969/files/test_images.hdf5?download=1\n",
        "!wget  -P /content/drive/MyDrive/comp_vis/DeepMoon/catalogues/ https://zenodo.org/records/1133969/files/train_craters.hdf5?download=1\n",
        "!wget  -P /content/drive/MyDrive/comp_vis/DeepMoon/catalogues/ https://zenodo.org/records/1133969/files/train_images.hdf5?download=1\n"
      ],
      "metadata": {
        "id": "baOkyFAL2Rpd"
      },
      "execution_count": null,
      "outputs": []
    },
    {
      "cell_type": "code",
      "source": [
        "# parallel download method\n",
        "# this method do not work on google colab\n",
        "#   # Define download URLs\n",
        "  # download_urls = [\n",
        "  #     \"https://zenodo.org/records/1133969/files/dev_craters.hdf5?download=1\",\n",
        "  #     \"https://zenodo.org/records/1133969/files/dev_images.hdf5?download=1\",\n",
        "  #     \"https://zenodo.org/records/1133969/files/LunarLROLrocKaguya_118mperpix.png?download=1\",\n",
        "  #     \"https://zenodo.org/records/1133969/files/model_keras1.2.2.h5?download=1\",\n",
        "  #     \"https://zenodo.org/records/1133969/files/model_keras2.h5?download=1\",\n",
        "  #     \"https://zenodo.org/records/1133969/files/post-processed_sample_images.zip?download=1\",\n",
        "  #     \"https://zenodo.org/records/1133969/files/post-processed_test_craters.npy?download=1\",\n",
        "  #     \"https://zenodo.org/records/1133969/files/test_craters.hdf5?download=1\",\n",
        "  #     \"https://zenodo.org/records/1133969/files/test_images.hdf5?download=1\",\n",
        "  #     \"https://zenodo.org/records/1133969/files/train_craters.hdf5?download=1\",\n",
        "  #     \"https://zenodo.org/records/1133969/files/train_images.hdf5?download=1\"\n",
        "  # ]\n",
        "\n",
        "  # # Define destination directory\n",
        "  # destination_dir = \"/content/drive/MyDrive/comp_vis/DeepMoon/catalogues/\"\n",
        "\n",
        "  # # Define function to download a single URL\n",
        "  # def download_url(url):\n",
        "  #     !wget -P \"$destination_dir\" \"$url\"\n",
        "\n",
        "  # # Import ThreadPoolExecutor to run tasks in parallel\n",
        "  # from concurrent.futures import ThreadPoolExecutor\n",
        "\n",
        "  # # Download files in parallel using ThreadPoolExecutor\n",
        "  # with ThreadPoolExecutor(max_workers=10) as executor:\n",
        "  #     executor.map(download_url, download_urls)\n"
      ],
      "metadata": {
        "id": "Io_-KmZR15mk"
      },
      "execution_count": null,
      "outputs": []
    },
    {
      "cell_type": "code",
      "source": [
        "# # other method for || download:\n",
        "  # # Define download URLs\n",
        "  # %%bash\n",
        "  # download_urls=(\n",
        "  #     \"https://zenodo.org/records/1133969/files/dev_craters.hdf5?download=1\"\n",
        "  #     \"https://zenodo.org/records/1133969/files/dev_images.hdf5?download=1\"\n",
        "  #     \"https://zenodo.org/records/1133969/files/LunarLROLrocKaguya_118mperpix.png?download=1\"\n",
        "  #     \"https://zenodo.org/records/1133969/files/model_keras1.2.2.h5?download=1\"\n",
        "  #     \"https://zenodo.org/records/1133969/files/model_keras2.h5?download=1\"\n",
        "  #     \"https://zenodo.org/records/1133969/files/post-processed_sample_images.zip?download=1\"\n",
        "  #     \"https://zenodo.org/records/1133969/files/post-processed_test_craters.npy?download=1\"\n",
        "  #     \"https://zenodo.org/records/1133969/files/test_craters.hdf5?download=1\"\n",
        "  #     \"https://zenodo.org/records/1133969/files/test_images.hdf5?download=1\"\n",
        "  #     \"https://zenodo.org/records/1133969/files/train_craters.hdf5?download=1\"\n",
        "  #     \"https://zenodo.org/records/1133969/files/train_images.hdf5?download=1\"\n",
        "  # )\n",
        "\n",
        "  # # Define destination directory\n",
        "  # destination_dir=\"/content/drive/MyDrive/comp_vis/DeepMoon/catalogues/\"\n",
        "\n",
        "  # sudo apt-get install parallel\n",
        "  # # Download files in parallel\n",
        "  # parallel -j 10 wget -P \"$destination_dir\" ::: \"${download_urls[@]}\"\n"
      ],
      "metadata": {
        "id": "VFMSYZor3gZU"
      },
      "execution_count": null,
      "outputs": []
    },
    {
      "cell_type": "code",
      "execution_count": null,
      "metadata": {
        "id": "oni2xuG49VIx"
      },
      "outputs": [],
      "source": [
        "\n",
        "#rename all the data files\n",
        "!mv /content/drive/MyDrive/comp_vis/DeepMoon/catalogues/dev_craters.hdf5?download=1 /content/drive/MyDrive/comp_vis/DeepMoon/catalogues/dev_craters.hdf5\n",
        "!mv /content/drive/MyDrive/comp_vis/DeepMoon/catalogues/dev_images.hdf5?download=1 /content/drive/MyDrive/comp_vis/DeepMoon/catalogues/dev_images.hdf5\n",
        "!mv /content/drive/MyDrive/comp_vis/DeepMoon/catalogues/LunarLROLrocKaguya_118mperpix.png?download=1  /content/drive/MyDrive/comp_vis/DeepMoon/catalogues/LunarLROLrocKaguya_118mperpix.png\n",
        "!mv /content/drive/MyDrive/comp_vis/DeepMoon/catalogues/model_keras1.2.2.h5?download=1 /content/drive/MyDrive/comp_vis/DeepMoon/catalogues/model_keras1.2.2.h5\n",
        "!mv /content/drive/MyDrive/comp_vis/DeepMoon/catalogues/model_keras2.h5?download=1 /content/drive/MyDrive/comp_vis/DeepMoon/catalogues/model_keras2.h5\n",
        "!mv /content/drive/MyDrive/comp_vis/DeepMoon/catalogues/post-processed_sample_images.zip?download=1 /content/drive/MyDrive/comp_vis/DeepMoon/catalogues/post-processed_sample_images.zip\n",
        "!mv /content/drive/MyDrive/comp_vis/DeepMoon/catalogues/post-processed_test_craters.npy?download=1 /content/drive/MyDrive/comp_vis/DeepMoon/catalogues/post-processed_test_craters.npy\n",
        "!mv /content/drive/MyDrive/comp_vis/DeepMoon/catalogues/test_craters.hdf5?download=1 /content/drive/MyDrive/comp_vis/DeepMoon/catalogues/test_craters.hdf5\n",
        "!mv /content/drive/MyDrive/comp_vis/DeepMoon/catalogues/test_images.hdf5?download=1 /content/drive/MyDrive/comp_vis/DeepMoon/catalogues/test_images.hdf5\n",
        "!mv /content/drive/MyDrive/comp_vis/DeepMoon/catalogues/train_craters.hdf5?download=1 /content/drive/MyDrive/comp_vis/DeepMoon/catalogues/train_craters.hdf5\n",
        "!mv /content/drive/MyDrive/comp_vis/DeepMoon/catalogues/train_images.hdf5?download=1 /content/drive/MyDrive/comp_vis/DeepMoon/catalogues/train_images.hdf5\n",
        "\n",
        "# following do not work on colab :(\n",
        "    # Make a directory\n",
        "  # !mkdir -p /content/drive/MyDrive/comp_vis\n",
        "\n",
        "  # # Clone repo in that directory\n",
        "  # !git clone https://github.com/Akshat6133/DeepMoon /content/drive/MyDrive/comp_vis\n",
        "\n",
        "  # # Define file URLs and names\n",
        "  # file_urls = [\n",
        "  #     \"https://zenodo.org/records/1133969/files/dev_craters.hdf5?download=1\",\n",
        "  #     \"https://zenodo.org/records/1133969/files/dev_images.hdf5?download=1\",\n",
        "  #     \"https://zenodo.org/records/1133969/files/LunarLROLrocKaguya_118mperpix.png?download=1\",\n",
        "  #     \"https://zenodo.org/records/1133969/files/model_keras1.2.2.h5?download=1\",\n",
        "  #     \"https://zenodo.org/records/1133969/files/model_keras2.h5?download=1\",\n",
        "  #     \"https://zenodo.org/records/1133969/files/post-processed_sample_images.zip?download=1\",\n",
        "  #     \"https://zenodo.org/records/1133969/files/post-processed_test_craters.npy?download=1\",\n",
        "  #     \"https://zenodo.org/records/1133969/files/test_craters.hdf5?download=1\",\n",
        "  #     \"https://zenodo.org/records/1133969/files/test_images.hdf5?download=1\",\n",
        "  #     \"https://zenodo.org/records/1133969/files/train_craters.hdf5?download=1\",\n",
        "  #     \"https://zenodo.org/records/1133969/files/train_images.hdf5?download=1\"\n",
        "  # ]\n",
        "  # file_names = [\n",
        "  #     \"dev_craters.hdf5\",\n",
        "  #     \"dev_images.hdf5\",\n",
        "  #     \"LunarLROLrocKaguya_118mperpix.png\",\n",
        "  #     \"model_keras1.2.2.h5\",\n",
        "  #     \"model_keras2.h5\",\n",
        "  #     \"post-processed_sample_images.zip\",\n",
        "  #     \"post-processed_test_craters.npy\",\n",
        "  #     \"test_craters.hdf5\",\n",
        "  #     \"test_images.hdf5\",\n",
        "  #     \"train_craters.hdf5\",\n",
        "  #     \"train_images.hdf5\"\n",
        "  # ]\n",
        "\n",
        "  # # Download and rename files\n",
        "  # for url, name in zip(file_urls, file_names):\n",
        "  #     !wget -O \"/content/drive/MyDrive/comp_vis/DeepMoon/catalogues/{name}\" \"{url}\"\n"
      ]
    },
    {
      "cell_type": "code",
      "execution_count": null,
      "metadata": {
        "id": "GlTnDg3S4cdr",
        "colab": {
          "base_uri": "https://localhost:8080/"
        },
        "outputId": "040b0a04-9d28-4d90-9073-18143e2f55f5"
      },
      "outputs": [
        {
          "output_type": "stream",
          "name": "stdout",
          "text": [
            "env: PYTHONPATH=\n",
            "--2024-05-13 04:32:17--  https://repo.anaconda.com/miniconda/Miniconda3-latest-Linux-x86_64.sh\n",
            "Resolving repo.anaconda.com (repo.anaconda.com)... 104.16.32.241, 104.16.191.158, 2606:4700::6810:20f1, ...\n",
            "Connecting to repo.anaconda.com (repo.anaconda.com)|104.16.32.241|:443... connected.\n",
            "HTTP request sent, awaiting response... 200 OK\n",
            "Length: 143351488 (137M) [application/octet-stream]\n",
            "Saving to: ‘/root/miniconda3/miniconda.sh’\n",
            "\n",
            "/root/miniconda3/mi 100%[===================>] 136.71M   184MB/s    in 0.7s    \n",
            "\n",
            "2024-05-13 04:32:18 (184 MB/s) - ‘/root/miniconda3/miniconda.sh’ saved [143351488/143351488]\n",
            "\n",
            "PREFIX=/root/miniconda3\n",
            "Unpacking payload ...\n",
            "\n",
            "Installing base environment...\n",
            "\n",
            "Preparing transaction: ...working... done\n",
            "Executing transaction: ...working... done\n",
            "installation finished.\n",
            "no change     /root/miniconda3/condabin/conda\n",
            "no change     /root/miniconda3/bin/conda\n",
            "no change     /root/miniconda3/bin/conda-env\n",
            "no change     /root/miniconda3/bin/activate\n",
            "no change     /root/miniconda3/bin/deactivate\n",
            "no change     /root/miniconda3/etc/profile.d/conda.sh\n",
            "no change     /root/miniconda3/etc/fish/conf.d/conda.fish\n",
            "no change     /root/miniconda3/shell/condabin/Conda.psm1\n",
            "no change     /root/miniconda3/shell/condabin/conda-hook.ps1\n",
            "no change     /root/miniconda3/lib/python3.12/site-packages/xontrib/conda.xsh\n",
            "no change     /root/miniconda3/etc/profile.d/conda.csh\n",
            "modified      /root/.bashrc\n",
            "\n",
            "==> For changes to take effect, close and re-open your current shell. <==\n",
            "\n"
          ]
        }
      ],
      "source": [
        "# remove default python path\n",
        "%env PYTHONPATH=\n",
        "\n",
        "# install miniconda\n",
        "!mkdir -p ~/miniconda3\n",
        "!wget https://repo.anaconda.com/miniconda/Miniconda3-latest-Linux-x86_64.sh -O ~/miniconda3/miniconda.sh\n",
        "!bash ~/miniconda3/miniconda.sh -b -u -p ~/miniconda3\n",
        "!rm -rf ~/miniconda3/miniconda.sh\n",
        "# ./script_name\n",
        "#------------------------------------\n",
        "# followed instructions from the miniconda docs\n",
        "!~/miniconda3/bin/conda init bash\n",
        "!source ~/.bashrc"
      ]
    },
    {
      "cell_type": "code",
      "execution_count": null,
      "metadata": {
        "id": "kVTk_GBt4lT6"
      },
      "outputs": [],
      "source": [
        "# Specify the path to the Conda executable\n",
        "conda_path = '/root/miniconda3/bin/conda'\n",
        "\n",
        "# Use the specified Conda path to create a new environment with Python 3.5\n",
        "!{conda_path} create -y -n myenv python=3.5\n"
      ]
    },
    {
      "cell_type": "code",
      "source": [
        "# update the repo before moving forward\n",
        "!git -C /content/drive/MyDrive/comp_vis/DeepMoon pull"
      ],
      "metadata": {
        "id": "cjjdXC22V-W9",
        "colab": {
          "base_uri": "https://localhost:8080/"
        },
        "outputId": "6a64c029-b512-47ae-9e56-01e77715870d"
      },
      "execution_count": null,
      "outputs": [
        {
          "output_type": "stream",
          "name": "stdout",
          "text": [
            "Already up to date.\n"
          ]
        }
      ]
    },
    {
      "cell_type": "code",
      "source": [
        "!sudo apt-get install opencv-python"
      ],
      "metadata": {
        "colab": {
          "base_uri": "https://localhost:8080/"
        },
        "id": "uJZB4Y56j7wp",
        "outputId": "fa7812ec-777e-4dc9-e5ab-4f531394e31c"
      },
      "execution_count": null,
      "outputs": [
        {
          "output_type": "stream",
          "name": "stdout",
          "text": [
            "Reading package lists... Done\n",
            "Building dependency tree... Done\n",
            "Reading state information... Done\n",
            "E: Unable to locate package opencv-python\n"
          ]
        }
      ]
    },
    {
      "cell_type": "code",
      "execution_count": null,
      "metadata": {
        "id": "1GkKoAsd5IMY",
        "colab": {
          "base_uri": "https://localhost:8080/"
        },
        "outputId": "f5960e10-7f2c-445c-c9f9-eed82886221d"
      },
      "outputs": [
        {
          "output_type": "stream",
          "name": "stdout",
          "text": [
            "\n",
            "3.5.6 |Anaconda, Inc.| (default, Jun  4 2021, 13:57:47) \n",
            "[GCC 7.5.0]\n",
            " \n",
            "Collecting opencv-python-headless\n",
            "  Downloading https://files.pythonhosted.org/packages/2f/b4/2ddaaecc332e6ddafb7726abb6139955a99282afe5f370930890bb572707/opencv-python-headless-4.4.0.42.tar.gz (88.9MB)\n",
            "  Installing build dependencies: started\n",
            "  Installing build dependencies: finished with status 'error'\n",
            " Command \"/root/miniconda3/envs/myenv/bin/python -m pip install --ignore-installed --no-user --prefix /tmp/pip-build-env-kznh1aly https://files.pythonhosted.org/packages/6d/38/c21ef5034684ffc0412deefbb07d66678332290c14bb5269c85145fbd55e/setuptools-50.3.2-py3-none-any.whl#sha256=2c242a0856fbad7efbe560df4a7add9324f340cf48df43651e9604924466794a https://files.pythonhosted.org/packages/27/d6/003e593296a85fd6ed616ed962795b2f87709c3eee2bca4f6d0fe55c6d00/wheel-0.37.1-py2.py3-none-any.whl#sha256=4bdcd7d840138086126cd09254dc6195fb4fc6f01c050a1d7236f2630db1d22a https://files.pythonhosted.org/packages/e8/21/4d573575a7161d34d4f55b92e41d5656e81d43e56153a520318d2b17f201/scikit_build-0.16.0-py3-none-any.whl#sha256=fa4c795ac5740af981b3e7d08fadd594ecf6c82cc5c7eb8e6746b01e0a2feb6d https://files.pythonhosted.org/packages/35/b3/8e562250a00fbdca503e5102bf607f3e114c6121ec021040c205f34abed2/cmake-3.22.6-py2.py3-none-manylinux_2_5_x86_64.manylinux1_x86_64.whl#sha256=680dbab34624154f3ead0959230a096fbaf0261dc87196bbdf983d9290ca9dc2 https://files.pythonhosted.org/packages/27/79/8a850fe3496446ff0d584327ae44e7500daf6764ca1a382d2d02789accf7/pip-20.3.4-py2.py3-none-any.whl#sha256=217ae5161a0e08c0fb873858806e3478c9775caffce5168b50ec885e358c199d https://files.pythonhosted.org/packages/67/3c/9b40b67e9ce241d8ef5069f65c49e142da6dc073053802347ef256e5950c/numpy-1.11.3-cp35-cp35m-manylinux1_x86_64.whl#sha256=7c6eb737dc3d53977c558d57625dfbecd9900a5807ff17edd6842a102cb95c3b https://files.pythonhosted.org/packages/0d/41/6c224571decd61c2578baedfdb0eec6283617c6679c35b20973f4e68aeaf/numpy-1.13.3-cp35-cp35m-manylinux1_x86_64.whl#sha256=479863de17f66810db00bccf35289555365da45d3b053ccf539b95ab3b9c24f6 https://files.pythonhosted.org/packages/43/17/cd9fa14492dbef2aaf22622db79dba087c10f125473e730cda2f2019c40b/numpy-1.14.5-cp35-cp35m-manylinux1_x86_64.whl#sha256=baadc5f770917ada556afb7651a68176559f4dca5f4b2d0947cd15b9fb84fb51 https://files.pythonhosted.org/packages/5e/f8/82a8a6ed446b58aa718b2744b265983783a2c84098a73db6d0b78a573e25/numpy-1.17.3-cp35-cp35m-manylinux1_x86_64.whl#sha256=9395b0a41e8b7e9a284e3be7060db9d14ad80273841c952c83a5afc241d2bd98\" failed with error code 1 in None\n",
            "\n",
            "Collecting pip\n",
            "  Downloading https://files.pythonhosted.org/packages/27/79/8a850fe3496446ff0d584327ae44e7500daf6764ca1a382d2d02789accf7/pip-20.3.4-py2.py3-none-any.whl (1.5MB)\n",
            "Collecting setuptootls\n",
            "   Could not find a version that satisfies the requirement setuptootls (from versions: )\n",
            "No matching distribution found for setuptootls\n",
            "\n",
            "numpy==1.13.3\n",
            "pandas==0.19.1\n",
            "Keras==1.2.2\n",
            "Pillow==3.1.2\n",
            "scikit-image==0.12.3\n",
            "tables==3.4.2\n",
            "h5py==2.6.0\n",
            "opencv-python>=3.2.0.6\n",
            "Cartopy>=0.14.2\n",
            "tensorflow==0.12.0\n",
            "Requirement already satisfied: numpy==1.13.3 in /root/miniconda3/envs/myenv/lib/python3.5/site-packages (1.13.3)\n",
            " \n",
            " \n",
            "Requirement already satisfied: pandas==0.19.1 in /root/miniconda3/envs/myenv/lib/python3.5/site-packages (0.19.1)\n",
            "Requirement already satisfied: pytz>=2011k in /root/miniconda3/envs/myenv/lib/python3.5/site-packages (from pandas==0.19.1) (2024.1)\n",
            "Requirement already satisfied: python-dateutil>=2 in /root/miniconda3/envs/myenv/lib/python3.5/site-packages (from pandas==0.19.1) (2.9.0.post0)\n",
            "Requirement already satisfied: numpy>=1.7.0 in /root/miniconda3/envs/myenv/lib/python3.5/site-packages (from pandas==0.19.1) (1.13.3)\n",
            "Requirement already satisfied: six>=1.5 in /root/miniconda3/envs/myenv/lib/python3.5/site-packages (from python-dateutil>=2->pandas==0.19.1) (1.16.0)\n",
            " \n",
            " \n",
            "Requirement already satisfied: Keras==1.2.2 in /root/miniconda3/envs/myenv/lib/python3.5/site-packages (1.2.2)\n",
            "Requirement already satisfied: theano in /root/miniconda3/envs/myenv/lib/python3.5/site-packages (from Keras==1.2.2) (1.0.5)\n",
            "Requirement already satisfied: pyyaml in /root/miniconda3/envs/myenv/lib/python3.5/site-packages (from Keras==1.2.2) (5.3.1)\n",
            "Requirement already satisfied: six in /root/miniconda3/envs/myenv/lib/python3.5/site-packages (from Keras==1.2.2) (1.16.0)\n",
            "Requirement already satisfied: numpy>=1.9.1 in /root/miniconda3/envs/myenv/lib/python3.5/site-packages (from theano->Keras==1.2.2) (1.13.3)\n",
            "Requirement already satisfied: scipy>=0.14 in /root/miniconda3/envs/myenv/lib/python3.5/site-packages (from theano->Keras==1.2.2) (1.4.1)\n",
            " \n",
            " \n",
            "Requirement already satisfied: Pillow==3.1.2 in /root/miniconda3/envs/myenv/lib/python3.5/site-packages (3.1.2)\n",
            " \n",
            " \n",
            "Requirement already satisfied: scikit-image==0.12.3 in /root/miniconda3/envs/myenv/lib/python3.5/site-packages (0.12.3)\n",
            "Requirement already satisfied: matplotlib>=1.3.1 in /root/miniconda3/envs/myenv/lib/python3.5/site-packages (from scikit-image==0.12.3) (3.0.3)\n",
            "Requirement already satisfied: networkx>=1.8 in /root/miniconda3/envs/myenv/lib/python3.5/site-packages (from scikit-image==0.12.3) (2.4)\n",
            "Requirement already satisfied: scipy>=0.9.0 in /root/miniconda3/envs/myenv/lib/python3.5/site-packages (from scikit-image==0.12.3) (1.4.1)\n",
            "Requirement already satisfied: dask[array]>=0.5.0 in /root/miniconda3/envs/myenv/lib/python3.5/site-packages (from scikit-image==0.12.3) (2.6.0)\n",
            "Requirement already satisfied: six>=1.7.3 in /root/miniconda3/envs/myenv/lib/python3.5/site-packages (from scikit-image==0.12.3) (1.16.0)\n",
            "Requirement already satisfied: pillow>=2.1.0 in /root/miniconda3/envs/myenv/lib/python3.5/site-packages (from scikit-image==0.12.3) (3.1.2)\n",
            "Requirement already satisfied: pyparsing!=2.0.4,!=2.1.2,!=2.1.6,>=2.0.1 in /root/miniconda3/envs/myenv/lib/python3.5/site-packages (from matplotlib>=1.3.1->scikit-image==0.12.3) (2.4.7)\n",
            "Requirement already satisfied: kiwisolver>=1.0.1 in /root/miniconda3/envs/myenv/lib/python3.5/site-packages (from matplotlib>=1.3.1->scikit-image==0.12.3) (1.1.0)\n",
            "Requirement already satisfied: python-dateutil>=2.1 in /root/miniconda3/envs/myenv/lib/python3.5/site-packages (from matplotlib>=1.3.1->scikit-image==0.12.3) (2.9.0.post0)\n",
            "Requirement already satisfied: cycler>=0.10 in /root/miniconda3/envs/myenv/lib/python3.5/site-packages (from matplotlib>=1.3.1->scikit-image==0.12.3) (0.10.0)\n",
            "Requirement already satisfied: numpy>=1.10.0 in /root/miniconda3/envs/myenv/lib/python3.5/site-packages (from matplotlib>=1.3.1->scikit-image==0.12.3) (1.13.3)\n",
            "Requirement already satisfied: decorator>=4.3.0 in /root/miniconda3/envs/myenv/lib/python3.5/site-packages (from networkx>=1.8->scikit-image==0.12.3) (5.1.1)\n",
            "Requirement already satisfied: toolz>=0.7.3; extra == \"array\" in /root/miniconda3/envs/myenv/lib/python3.5/site-packages (from dask[array]>=0.5.0->scikit-image==0.12.3) (0.12.0)\n",
            "Requirement already satisfied: setuptools in /root/miniconda3/envs/myenv/lib/python3.5/site-packages (from kiwisolver>=1.0.1->matplotlib>=1.3.1->scikit-image==0.12.3) (40.2.0)\n",
            " \n",
            " \n",
            "Requirement already satisfied: tables==3.4.2 in /root/miniconda3/envs/myenv/lib/python3.5/site-packages (3.4.2)\n",
            "Requirement already satisfied: numpy>=1.8.0 in /root/miniconda3/envs/myenv/lib/python3.5/site-packages (from tables==3.4.2) (1.13.3)\n",
            "Requirement already satisfied: numexpr>=2.5.2 in /root/miniconda3/envs/myenv/lib/python3.5/site-packages (from tables==3.4.2) (2.8.1)\n",
            "Requirement already satisfied: six>=1.9.0 in /root/miniconda3/envs/myenv/lib/python3.5/site-packages (from tables==3.4.2) (1.16.0)\n",
            "Requirement already satisfied: packaging in /root/miniconda3/envs/myenv/lib/python3.5/site-packages (from numexpr>=2.5.2->tables==3.4.2) (20.9)\n",
            "Requirement already satisfied: pyparsing>=2.0.2 in /root/miniconda3/envs/myenv/lib/python3.5/site-packages (from packaging->numexpr>=2.5.2->tables==3.4.2) (2.4.7)\n",
            " \n",
            " \n",
            "Requirement already satisfied: h5py==2.6.0 in /root/miniconda3/envs/myenv/lib/python3.5/site-packages (2.6.0)\n",
            "Requirement already satisfied: six in /root/miniconda3/envs/myenv/lib/python3.5/site-packages (from h5py==2.6.0) (1.16.0)\n",
            "Requirement already satisfied: numpy>=1.6.1 in /root/miniconda3/envs/myenv/lib/python3.5/site-packages (from h5py==2.6.0) (1.13.3)\n",
            " \n",
            " \n",
            "Collecting opencv-python>=3.2.0.6\n",
            "  Downloading https://files.pythonhosted.org/packages/77/f5/49f034f8d109efcf9b7e98fbc051878b83b2f02a1c73f92bbd37f317288e/opencv-python-4.4.0.42.tar.gz (88.9MB)\n",
            "  Installing build dependencies: started\n",
            "  Installing build dependencies: finished with status 'error'\n",
            " \n",
            " Command \"/root/miniconda3/envs/myenv/bin/python -m pip install --ignore-installed --no-user --prefix /tmp/pip-build-env-mgl6w52a https://files.pythonhosted.org/packages/6d/38/c21ef5034684ffc0412deefbb07d66678332290c14bb5269c85145fbd55e/setuptools-50.3.2-py3-none-any.whl#sha256=2c242a0856fbad7efbe560df4a7add9324f340cf48df43651e9604924466794a https://files.pythonhosted.org/packages/27/d6/003e593296a85fd6ed616ed962795b2f87709c3eee2bca4f6d0fe55c6d00/wheel-0.37.1-py2.py3-none-any.whl#sha256=4bdcd7d840138086126cd09254dc6195fb4fc6f01c050a1d7236f2630db1d22a https://files.pythonhosted.org/packages/e8/21/4d573575a7161d34d4f55b92e41d5656e81d43e56153a520318d2b17f201/scikit_build-0.16.0-py3-none-any.whl#sha256=fa4c795ac5740af981b3e7d08fadd594ecf6c82cc5c7eb8e6746b01e0a2feb6d https://files.pythonhosted.org/packages/35/b3/8e562250a00fbdca503e5102bf607f3e114c6121ec021040c205f34abed2/cmake-3.22.6-py2.py3-none-manylinux_2_5_x86_64.manylinux1_x86_64.whl#sha256=680dbab34624154f3ead0959230a096fbaf0261dc87196bbdf983d9290ca9dc2 https://files.pythonhosted.org/packages/27/79/8a850fe3496446ff0d584327ae44e7500daf6764ca1a382d2d02789accf7/pip-20.3.4-py2.py3-none-any.whl#sha256=217ae5161a0e08c0fb873858806e3478c9775caffce5168b50ec885e358c199d https://files.pythonhosted.org/packages/67/3c/9b40b67e9ce241d8ef5069f65c49e142da6dc073053802347ef256e5950c/numpy-1.11.3-cp35-cp35m-manylinux1_x86_64.whl#sha256=7c6eb737dc3d53977c558d57625dfbecd9900a5807ff17edd6842a102cb95c3b https://files.pythonhosted.org/packages/0d/41/6c224571decd61c2578baedfdb0eec6283617c6679c35b20973f4e68aeaf/numpy-1.13.3-cp35-cp35m-manylinux1_x86_64.whl#sha256=479863de17f66810db00bccf35289555365da45d3b053ccf539b95ab3b9c24f6 https://files.pythonhosted.org/packages/43/17/cd9fa14492dbef2aaf22622db79dba087c10f125473e730cda2f2019c40b/numpy-1.14.5-cp35-cp35m-manylinux1_x86_64.whl#sha256=baadc5f770917ada556afb7651a68176559f4dca5f4b2d0947cd15b9fb84fb51 https://files.pythonhosted.org/packages/5e/f8/82a8a6ed446b58aa718b2744b265983783a2c84098a73db6d0b78a573e25/numpy-1.17.3-cp35-cp35m-manylinux1_x86_64.whl#sha256=9395b0a41e8b7e9a284e3be7060db9d14ad80273841c952c83a5afc241d2bd98\" failed with error code 1 in None\n",
            "\n",
            "Collecting Cartopy>=0.14.2\n",
            "  Downloading https://files.pythonhosted.org/packages/ed/ca/524ce33692df3faeaa56852fb6a33b0b410be94cc288417565b96fef3f64/Cartopy-0.19.0.post1.tar.gz (12.1MB)\n",
            "  Installing build dependencies: started\n",
            "  Installing build dependencies: finished with status 'done'\n",
            "Requirement already satisfied: numpy>=1.13.3 in /root/miniconda3/envs/myenv/lib/python3.5/site-packages (from Cartopy>=0.14.2) (1.13.3)\n",
            "Requirement already satisfied: shapely>=1.5.6 in /root/miniconda3/envs/myenv/lib/python3.5/site-packages (from Cartopy>=0.14.2) (1.7.1)\n",
            "Requirement already satisfied: pyshp>=2 in /root/miniconda3/envs/myenv/lib/python3.5/site-packages (from Cartopy>=0.14.2) (2.3.1)\n",
            "Installing collected packages: Cartopy\n",
            "  Running setup.py install for Cartopy: started\n",
            "    Running setup.py install for Cartopy: finished with status 'error'\n",
            " \n",
            " Command \"/root/miniconda3/envs/myenv/bin/python -u -c \"import setuptools, tokenize;__file__='/tmp/pip-install-t_zgahac/Cartopy/setup.py';f=getattr(tokenize, 'open', open)(__file__);code=f.read().replace('\\r\\n', '\\n');f.close();exec(compile(code, __file__, 'exec'))\" install --record /tmp/pip-record-a3n2pz0n/install-record.txt --single-version-externally-managed --compile\" failed with error code 1 in /tmp/pip-install-t_zgahac/Cartopy/\n",
            "\n",
            "Requirement already satisfied: tensorflow==0.12.0 in /root/miniconda3/envs/myenv/lib/python3.5/site-packages (0.12.0)\n",
            "Requirement already satisfied: six>=1.10.0 in /root/miniconda3/envs/myenv/lib/python3.5/site-packages (from tensorflow==0.12.0) (1.16.0)\n",
            "Requirement already satisfied: numpy>=1.11.0 in /root/miniconda3/envs/myenv/lib/python3.5/site-packages (from tensorflow==0.12.0) (1.13.3)\n",
            "Requirement already satisfied: wheel>=0.26 in /root/miniconda3/envs/myenv/lib/python3.5/site-packages (from tensorflow==0.12.0) (0.37.1)\n",
            "Requirement already satisfied: protobuf==3.1.0 in /root/miniconda3/envs/myenv/lib/python3.5/site-packages (from tensorflow==0.12.0) (3.1.0)\n",
            "Requirement already satisfied: setuptools in /root/miniconda3/envs/myenv/lib/python3.5/site-packages (from protobuf==3.1.0->tensorflow==0.12.0) (40.2.0)\n",
            " \n",
            " \n",
            "Package         Version    \n",
            "--------------- -----------\n",
            "certifi         2020.6.20  \n",
            "cycler          0.10.0     \n",
            "dask            2.6.0      \n",
            "decorator       5.1.1      \n",
            "h5py            2.6.0      \n",
            "Keras           1.2.2      \n",
            "kiwisolver      1.1.0      \n",
            "matplotlib      3.0.3      \n",
            "networkx        2.4        \n",
            "numexpr         2.8.1      \n",
            "numpy           1.13.3     \n",
            "packaging       20.9       \n",
            "pandas          0.19.1     \n",
            "Pillow          3.1.2      \n",
            "pip             10.0.1     \n",
            "protobuf        3.1.0      \n",
            "pyparsing       2.4.7      \n",
            "pyshp           2.3.1      \n",
            "python-dateutil 2.9.0.post0\n",
            "pytz            2024.1     \n",
            "PyYAML          5.3.1      \n",
            "scikit-image    0.12.3     \n",
            "scipy           1.4.1      \n",
            "setuptools      40.2.0     \n",
            "Shapely         1.7.1      \n",
            "six             1.16.0     \n",
            "tables          3.4.2      \n",
            "tensorflow      0.12.0     \n",
            "Theano          1.0.5      \n",
            "toolz           0.12.0     \n",
            "wheel           0.37.1     \n",
            " \n"
          ]
        }
      ],
      "source": [
        "import subprocess\n",
        "\n",
        "# Specify the path to the Python executable in the Conda environment\n",
        "python_executable = '/root/miniconda3/envs/myenv/bin/python'\n",
        "\n",
        "# path to the requirements.txt file\n",
        "requirements_file = \"/content/drive/MyDrive/comp_vis/DeepMoon/requirements.txt\"\n",
        "# Check Python version\n",
        "version_check = subprocess.run([python_executable, \"--version\"], capture_output=True, text=True)\n",
        "print(version_check.stdout,)\n",
        "\n",
        "# Check system whether Conda environment or not\n",
        "sys_check = subprocess.run([python_executable, \"-c\", \"import sys; print(sys.version)\"], capture_output=True, text=True)\n",
        "print(sys_check.stdout,\n",
        "      sys_check.stderr)\n",
        "\n",
        "\n",
        "# !sudo apt-get install libgeos++-dev libproj-dev\n",
        "# purge_cache_command = [python_executable, \"-m\", \"pip\", \"cache\", \"purge\"]\n",
        "# purge_cache_result = subprocess.run(purge_cache_command, capture_output=True, text=True)\n",
        "# print(purge_cache_result.stdout,\n",
        "#       purge_cache_result.stderr)\n",
        "\n",
        "\n",
        "\n",
        "# version_check = subprocess.run([python_executable, \"-m\", \"pip\",\"install\", \"numpy==1.12.1\" ], capture_output=True, text=True)\n",
        "# print(\n",
        "    # version_check.stdout,\n",
        "      # version_check.stderr)\n",
        "\n",
        "\n",
        "opencv = subprocess.run([python_executable, \"-m\", \"pip\", \"install\" ,\"--no-binary\", \":all:\" ,\"opencv-python-headless\"], capture_output=True, text=True)\n",
        "print(opencv.stdout,\n",
        "      opencv.stderr)\n",
        "\n",
        "version_check = subprocess.run([python_executable, \"-m\", \"pip\",\"install\", \"--upgrade\" , \"--no-cache\", \"pip\", \"setuptootls\"], capture_output=True, text=True)\n",
        "print(\n",
        "    version_check.stdout,\n",
        "      version_check.stderr)\n",
        "\n",
        "with open(requirements_file, 'r') as file:\n",
        "    requirements_content = file.read()\n",
        "\n",
        "print(requirements_content)\n",
        "\n",
        "# Read the contents of the requirements file\n",
        "with open(requirements_file, 'r') as file:\n",
        "    requirements_content = file.readlines()\n",
        "\n",
        "# Install packages one by one\n",
        "for package in requirements_content:\n",
        "    package = package.strip()  # Remove leading/trailing whitespace\n",
        "    result = subprocess.run([python_executable, '-m', 'pip', 'install', package , \"--no-cache\"], capture_output=True, text=True)\n",
        "    print(result.stdout,\"\\n\",result.stderr)\n",
        "# result = subprocess.run([python_executable, '-m', 'pip', 'install', \"tensorflow==0.10.0rc0\"], capture_output=True, text=True)\n",
        "# print(result.stderr)\n",
        "\n",
        "# from time import sleep\n",
        "# sleep(15)\n",
        "# Check installed package versions\n",
        "installed_packages = subprocess.run([python_executable, '-m', 'pip', 'list'], capture_output=True, text=True)\n",
        "print(installed_packages.stdout,\n",
        "      installed_packages.stderr)\n",
        "\n",
        "\n",
        "# result = subprocess.run([python_executable, \"model_train.py\"], capture_output=True, text=True)\n",
        "# result = subprocess.run([python_executable, '-m', 'pip', 'install', '-r', requirements_file], capture_output=True, text=True)\n",
        "\n",
        "# Print the output of the installation process\n",
        "# print(result.stdout)\n",
        "\n",
        "\n",
        "#                            the commented following do not work\n",
        "# Install dependencies using pip with the Python executable from the Conda environment\n",
        "# result = subprocess.run([python_executable, '-m', 'pip', 'install', '-r', requirements_file], capture_output=True, text=True)\n",
        "\n",
        "# result = subprocess.run([python_executable, '-m', 'pip', 'install', \"numpy\",\" pandas\"], capture_output=True, text=True)\n",
        "# print(result.stdout)"
      ]
    }
  ],
  "metadata": {
    "colab": {
      "provenance": [],
      "mount_file_id": "1k3BnMNQTwFl8h_mEK79b8NRtoT5xGsI2",
      "authorship_tag": "ABX9TyPezNUojq/SGgfHx4dE28vS",
      "include_colab_link": true
    },
    "kernelspec": {
      "display_name": "Python 3",
      "name": "python3"
    },
    "language_info": {
      "name": "python"
    }
  },
  "nbformat": 4,
  "nbformat_minor": 0
}